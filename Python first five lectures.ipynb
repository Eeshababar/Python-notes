{
 "cells": [
  {
   "cell_type": "markdown",
   "id": "baa1e271",
   "metadata": {},
   "source": [
    "# Basic Commands\n"
   ]
  },
  {
   "cell_type": "code",
   "execution_count": 28,
   "id": "05f8d90a",
   "metadata": {},
   "outputs": [
    {
     "data": {
      "text/plain": [
       "8"
      ]
     },
     "execution_count": 28,
     "metadata": {},
     "output_type": "execute_result"
    }
   ],
   "source": [
    "2*2*2\n"
   ]
  },
  {
   "cell_type": "code",
   "execution_count": 29,
   "id": "3a6a9210",
   "metadata": {},
   "outputs": [
    {
     "data": {
      "text/plain": [
       "30"
      ]
     },
     "execution_count": 29,
     "metadata": {},
     "output_type": "execute_result"
    }
   ],
   "source": [
    "2*3*5\n"
   ]
  },
  {
   "cell_type": "code",
   "execution_count": 35,
   "id": "b4de4e02",
   "metadata": {},
   "outputs": [],
   "source": [
    "weight_kg = 65"
   ]
  },
  {
   "cell_type": "code",
   "execution_count": 42,
   "id": "d1887959",
   "metadata": {},
   "outputs": [
    {
     "name": "stdout",
     "output_type": "stream",
     "text": [
      "220.00000000000003\n"
     ]
    }
   ],
   "source": [
    "weight_pound = 2.2* weight_kg\n",
    "print(weight_pound)"
   ]
  },
  {
   "cell_type": "code",
   "execution_count": 40,
   "id": "8ac4cda7",
   "metadata": {},
   "outputs": [
    {
     "name": "stdout",
     "output_type": "stream",
     "text": [
      "Weight in kg is: 65 weight in lb is: 22.0\n"
     ]
    }
   ],
   "source": [
    "print(\"Weight in kg is:\" , weight_kg,  \"weight in lb is:\",  weight_pound )"
   ]
  },
  {
   "cell_type": "code",
   "execution_count": 43,
   "id": "a28989f1",
   "metadata": {},
   "outputs": [
    {
     "name": "stdout",
     "output_type": "stream",
     "text": [
      "Weight in kg is: 100 weight in lb is: 220.00000000000003\n"
     ]
    }
   ],
   "source": [
    "weight_kg = 100\n",
    "print(\"Weight in kg is:\" , weight_kg,  \"weight in lb is:\",  weight_pound )"
   ]
  },
  {
   "cell_type": "code",
   "execution_count": 45,
   "id": "a27feab8",
   "metadata": {},
   "outputs": [
    {
     "name": "stdout",
     "output_type": "stream",
     "text": [
      " mass of the person is : 95.0 age of the person is: 102\n"
     ]
    }
   ],
   "source": [
    "    mass = 47.5\n",
    "    age = 122\n",
    "    mass = mass * 2.0\n",
    "    \n",
    "    age = age - 20\n",
    "    \n",
    "print(\" mass of the person is :\", mass, \"age of the person is:\" , age)"
   ]
  },
  {
   "cell_type": "code",
   "execution_count": 49,
   "id": "dd5b950d",
   "metadata": {},
   "outputs": [
    {
     "name": "stdout",
     "output_type": "stream",
     "text": [
      "Mosa Ayan\n",
      "Arshman Mujeeb\n"
     ]
    }
   ],
   "source": [
    "Ist,second,third,fourth = 'Mosa', 'Ayan', \"Arshman\", \"Mujeeb\"\n",
    "print(Ist,second)\n",
    "print(third,fourth)\n"
   ]
  },
  {
   "cell_type": "markdown",
   "id": "68a35d51",
   "metadata": {},
   "source": [
    "# Intro to Numpy"
   ]
  },
  {
   "cell_type": "code",
   "execution_count": 54,
   "id": "4cefa7c0",
   "metadata": {},
   "outputs": [
    {
     "name": "stdout",
     "output_type": "stream",
     "text": [
      "[[0. 0. 1. ... 3. 0. 0.]\n",
      " [0. 1. 2. ... 1. 0. 1.]\n",
      " [0. 1. 1. ... 2. 1. 1.]\n",
      " ...\n",
      " [0. 1. 1. ... 1. 1. 1.]\n",
      " [0. 0. 0. ... 0. 2. 0.]\n",
      " [0. 0. 1. ... 1. 1. 0.]]\n"
     ]
    }
   ],
   "source": [
    "import numpy\n",
    "data=numpy.loadtxt(fname = 'C:\\\\Users\\DELL\\Desktop\\swc-python\\data\\inflammation-01.csv', delimiter=',')\n",
    "print(data)\n"
   ]
  },
  {
   "cell_type": "code",
   "execution_count": 55,
   "id": "1a37a24c",
   "metadata": {},
   "outputs": [
    {
     "name": "stdout",
     "output_type": "stream",
     "text": [
      "<class 'numpy.ndarray'>\n"
     ]
    }
   ],
   "source": [
    "print(type(data))"
   ]
  },
  {
   "cell_type": "code",
   "execution_count": 59,
   "id": "9d659c7f",
   "metadata": {},
   "outputs": [
    {
     "name": "stdout",
     "output_type": "stream",
     "text": [
      "float64\n"
     ]
    }
   ],
   "source": [
    "print(data.dtype)\n"
   ]
  },
  {
   "cell_type": "code",
   "execution_count": 61,
   "id": "510f4065",
   "metadata": {},
   "outputs": [
    {
     "name": "stdout",
     "output_type": "stream",
     "text": [
      "Help on class type in module builtins:\n",
      "\n",
      "class type(object)\n",
      " |  type(object_or_name, bases, dict)\n",
      " |  type(object) -> the object's type\n",
      " |  type(name, bases, dict) -> a new type\n",
      " |  \n",
      " |  Methods defined here:\n",
      " |  \n",
      " |  __call__(self, /, *args, **kwargs)\n",
      " |      Call self as a function.\n",
      " |  \n",
      " |  __delattr__(self, name, /)\n",
      " |      Implement delattr(self, name).\n",
      " |  \n",
      " |  __dir__(self, /)\n",
      " |      Specialized __dir__ implementation for types.\n",
      " |  \n",
      " |  __getattribute__(self, name, /)\n",
      " |      Return getattr(self, name).\n",
      " |  \n",
      " |  __init__(self, /, *args, **kwargs)\n",
      " |      Initialize self.  See help(type(self)) for accurate signature.\n",
      " |  \n",
      " |  __instancecheck__(self, instance, /)\n",
      " |      Check if an object is an instance.\n",
      " |  \n",
      " |  __repr__(self, /)\n",
      " |      Return repr(self).\n",
      " |  \n",
      " |  __setattr__(self, name, value, /)\n",
      " |      Implement setattr(self, name, value).\n",
      " |  \n",
      " |  __sizeof__(self, /)\n",
      " |      Return memory consumption of the type object.\n",
      " |  \n",
      " |  __subclasscheck__(self, subclass, /)\n",
      " |      Check if a class is a subclass.\n",
      " |  \n",
      " |  __subclasses__(self, /)\n",
      " |      Return a list of immediate subclasses.\n",
      " |  \n",
      " |  mro(self, /)\n",
      " |      Return a type's method resolution order.\n",
      " |  \n",
      " |  ----------------------------------------------------------------------\n",
      " |  Class methods defined here:\n",
      " |  \n",
      " |  __prepare__(...)\n",
      " |      __prepare__() -> dict\n",
      " |      used to create the namespace for the class statement\n",
      " |  \n",
      " |  ----------------------------------------------------------------------\n",
      " |  Static methods defined here:\n",
      " |  \n",
      " |  __new__(*args, **kwargs)\n",
      " |      Create and return a new object.  See help(type) for accurate signature.\n",
      " |  \n",
      " |  ----------------------------------------------------------------------\n",
      " |  Data descriptors defined here:\n",
      " |  \n",
      " |  __abstractmethods__\n",
      " |  \n",
      " |  __dict__\n",
      " |  \n",
      " |  __text_signature__\n",
      " |  \n",
      " |  ----------------------------------------------------------------------\n",
      " |  Data and other attributes defined here:\n",
      " |  \n",
      " |  __base__ = <class 'object'>\n",
      " |      The base class of the class hierarchy.\n",
      " |      \n",
      " |      When called, it accepts no arguments and returns a new featureless\n",
      " |      instance that has no instance attributes and cannot be given any.\n",
      " |  \n",
      " |  __bases__ = (<class 'object'>,)\n",
      " |  \n",
      " |  __basicsize__ = 880\n",
      " |  \n",
      " |  __dictoffset__ = 264\n",
      " |  \n",
      " |  __flags__ = 2148291584\n",
      " |  \n",
      " |  __itemsize__ = 40\n",
      " |  \n",
      " |  __mro__ = (<class 'type'>, <class 'object'>)\n",
      " |  \n",
      " |  __weakrefoffset__ = 368\n",
      "\n"
     ]
    }
   ],
   "source": [
    "help(type)"
   ]
  },
  {
   "cell_type": "code",
   "execution_count": 62,
   "id": "c6a7610e",
   "metadata": {},
   "outputs": [
    {
     "name": "stdout",
     "output_type": "stream",
     "text": [
      "(60, 40)\n"
     ]
    }
   ],
   "source": [
    "print(data.shape)"
   ]
  },
  {
   "cell_type": "code",
   "execution_count": 63,
   "id": "6d8daa56",
   "metadata": {},
   "outputs": [
    {
     "name": "stdout",
     "output_type": "stream",
     "text": [
      "0.0\n"
     ]
    }
   ],
   "source": [
    "print(data[0,0])"
   ]
  },
  {
   "cell_type": "code",
   "execution_count": 64,
   "id": "e2b369d7",
   "metadata": {},
   "outputs": [
    {
     "name": "stdout",
     "output_type": "stream",
     "text": [
      "13.0\n"
     ]
    }
   ],
   "source": [
    "print(data[30,20])\n"
   ]
  },
  {
   "cell_type": "code",
   "execution_count": 65,
   "id": "9eb9e562",
   "metadata": {},
   "outputs": [
    {
     "name": "stdout",
     "output_type": "stream",
     "text": [
      "[[0. 0. 1. 3. 1. 2. 4. 7. 8. 3.]\n",
      " [0. 1. 2. 1. 2. 1. 3. 2. 2. 6.]\n",
      " [0. 1. 1. 3. 3. 2. 6. 2. 5. 9.]\n",
      " [0. 0. 2. 0. 4. 2. 2. 1. 6. 7.]]\n"
     ]
    }
   ],
   "source": [
    "print(data[0:4, 0:10])"
   ]
  },
  {
   "cell_type": "code",
   "execution_count": 66,
   "id": "224080cd",
   "metadata": {},
   "outputs": [
    {
     "name": "stdout",
     "output_type": "stream",
     "text": [
      "[[0. 0. 1. 3. 1. 2. 4. 7. 8. 3.]\n",
      " [0. 1. 2. 1. 2. 1. 3. 2. 2. 6.]\n",
      " [0. 1. 1. 3. 3. 2. 6. 2. 5. 9.]\n",
      " [0. 0. 2. 0. 4. 2. 2. 1. 6. 7.]]\n"
     ]
    }
   ],
   "source": [
    "print(data[:4,:10])\n"
   ]
  },
  {
   "cell_type": "code",
   "execution_count": 67,
   "id": "db24c470",
   "metadata": {},
   "outputs": [
    {
     "name": "stdout",
     "output_type": "stream",
     "text": [
      "[[ 3.  3. 10.  5.  7.  4.  7.  7. 12. 18.  6. 13. 11. 11.  7.  7.  4.  6.\n",
      "   8.  8.  4.  4.  5.  7.  3.  4.  2.  3.  0.  0.]\n",
      " [10. 11.  5.  9.  4.  4.  7. 16.  8.  6. 18.  4. 12.  5. 12.  7. 11.  5.\n",
      "  11.  3.  3.  5.  4.  4.  5.  5.  1.  1.  0.  1.]\n",
      " [ 5.  7.  4.  5.  4. 15.  5. 11.  9. 10. 19. 14. 12. 17.  7. 12. 11.  7.\n",
      "   4.  2. 10.  5.  4.  2.  2.  3.  2.  2.  1.  1.]\n",
      " [10.  7.  9. 13.  8.  8. 15. 10. 10.  7. 17.  4.  4.  7.  6. 15.  6.  4.\n",
      "   9. 11.  3.  5.  6.  3.  3.  4.  2.  3.  2.  1.]]\n"
     ]
    }
   ],
   "source": [
    "print(data[:4,10:])"
   ]
  },
  {
   "cell_type": "code",
   "execution_count": 68,
   "id": "b0d03663",
   "metadata": {},
   "outputs": [
    {
     "name": "stdout",
     "output_type": "stream",
     "text": [
      "6.14875\n"
     ]
    }
   ],
   "source": [
    "print(numpy.mean(data))\n"
   ]
  },
  {
   "cell_type": "code",
   "execution_count": 69,
   "id": "76c675d2",
   "metadata": {},
   "outputs": [],
   "source": [
    "max_value,min_value,std_value = numpy.max(data),numpy.min(data), numpy.std(data)"
   ]
  },
  {
   "cell_type": "code",
   "execution_count": 70,
   "id": "420d3bb7",
   "metadata": {},
   "outputs": [
    {
     "name": "stdout",
     "output_type": "stream",
     "text": [
      "20.0 0.0 4.613833197118566\n"
     ]
    }
   ],
   "source": [
    "print(max_value,min_value,std_value)"
   ]
  },
  {
   "cell_type": "code",
   "execution_count": 71,
   "id": "977da069",
   "metadata": {},
   "outputs": [],
   "source": [
    "patient_0 = data[0, :]"
   ]
  },
  {
   "cell_type": "code",
   "execution_count": 73,
   "id": "fd9bb33a",
   "metadata": {},
   "outputs": [
    {
     "name": "stdout",
     "output_type": "stream",
     "text": [
      "18.0\n"
     ]
    }
   ],
   "source": [
    "print(numpy.max(patient_0))"
   ]
  },
  {
   "cell_type": "code",
   "execution_count": 74,
   "id": "a400c103",
   "metadata": {},
   "outputs": [
    {
     "name": "stdout",
     "output_type": "stream",
     "text": [
      "5.425\n"
     ]
    }
   ],
   "source": [
    "print(numpy.mean(data[,:]))"
   ]
  },
  {
   "cell_type": "code",
   "execution_count": 75,
   "id": "5ed1aeae",
   "metadata": {},
   "outputs": [
    {
     "name": "stdout",
     "output_type": "stream",
     "text": [
      "[ 0.          0.45        1.11666667  1.75        2.43333333  3.15\n",
      "  3.8         3.88333333  5.23333333  5.51666667  5.95        5.9\n",
      "  8.35        7.73333333  8.36666667  9.5         9.58333333 10.63333333\n",
      " 11.56666667 12.35       13.25       11.96666667 11.03333333 10.16666667\n",
      " 10.          8.66666667  9.15        7.25        7.33333333  6.58333333\n",
      "  6.06666667  5.95        5.11666667  3.6         3.3         3.56666667\n",
      "  2.48333333  1.5         1.13333333  0.56666667]\n"
     ]
    }
   ],
   "source": [
    "print(numpy.mean(data, axis=0))"
   ]
  },
  {
   "cell_type": "code",
   "execution_count": 76,
   "id": "858cc9bf",
   "metadata": {},
   "outputs": [
    {
     "name": "stdout",
     "output_type": "stream",
     "text": [
      "(40,)\n"
     ]
    }
   ],
   "source": [
    "print(numpy.mean(data, axis=0).shape)"
   ]
  },
  {
   "cell_type": "code",
   "execution_count": 77,
   "id": "8467f09d",
   "metadata": {},
   "outputs": [
    {
     "name": "stdout",
     "output_type": "stream",
     "text": [
      "[5.45  5.425 6.1   5.9   5.55  6.225 5.975 6.65  6.625 6.525 6.775 5.8\n",
      " 6.225 5.75  5.225 6.3   6.55  5.7   5.85  6.55  5.775 5.825 6.175 6.1\n",
      " 5.8   6.425 6.05  6.025 6.175 6.55  6.175 6.35  6.725 6.125 7.075 5.725\n",
      " 5.925 6.15  6.075 5.75  5.975 5.725 6.3   5.9   6.75  5.925 7.225 6.15\n",
      " 5.95  6.275 5.7   6.1   6.825 5.975 6.725 5.7   6.25  6.4   7.05  5.9  ]\n"
     ]
    }
   ],
   "source": [
    "print(numpy.mean(data, axis=1))"
   ]
  },
  {
   "cell_type": "code",
   "execution_count": 78,
   "id": "586789b1",
   "metadata": {},
   "outputs": [
    {
     "name": "stdout",
     "output_type": "stream",
     "text": [
      "(60,)\n"
     ]
    }
   ],
   "source": [
    "print(numpy.mean(data, axis=1).shape)"
   ]
  },
  {
   "cell_type": "markdown",
   "id": "9a26eb89",
   "metadata": {},
   "source": [
    "# Intro to matplotlib"
   ]
  },
  {
   "cell_type": "code",
   "execution_count": 79,
   "id": "d105e37b",
   "metadata": {},
   "outputs": [],
   "source": [
    "import matplotlib.pyplot"
   ]
  },
  {
   "cell_type": "code",
   "execution_count": 81,
   "id": "ec333163",
   "metadata": {},
   "outputs": [
    {
     "data": {
      "text/plain": [
       "[<matplotlib.lines.Line2D at 0x1515f697be0>]"
      ]
     },
     "execution_count": 81,
     "metadata": {},
     "output_type": "execute_result"
    },
    {
     "data": {
      "image/png": "[encoded data removed]",
      "text/plain": [
       "<Figure size 432x288 with 1 Axes>"
      ]
     },
     "metadata": {
      "needs_background": "light"
     },
     "output_type": "display_data"
    }
   ],
   "source": [
    "matplotlib.pyplot.plot(numpy.mean(data, axis=1))"
   ]
  },
  {
   "cell_type": "code",
   "execution_count": 82,
   "id": "b9414da9",
   "metadata": {},
   "outputs": [
    {
     "data": {
      "text/plain": [
       "[<matplotlib.lines.Line2D at 0x1515f789940>]"
      ]
     },
     "execution_count": 82,
     "metadata": {},
     "output_type": "execute_result"
    },
    {
     "data": {
      "image/png": "[encoded data removed]",
      "text/plain": [
       "<Figure size 432x288 with 1 Axes>"
      ]
     },
     "metadata": {
      "needs_background": "light"
     },
     "output_type": "display_data"
    }
   ],
   "source": [
    "matplotlib.pyplot.plot(numpy.mean(data, axis=0))"
   ]
  },
  {
   "cell_type": "code",
   "execution_count": 83,
   "id": "6bde3f7d",
   "metadata": {},
   "outputs": [
    {
     "data": {
      "text/plain": [
       "[<matplotlib.lines.Line2D at 0x1515f7f8820>]"
      ]
     },
     "execution_count": 83,
     "metadata": {},
     "output_type": "execute_result"
    },
    {
     "data": {
      "image/png": "[encoded data removed]",
      "text/plain": [
       "<Figure size 432x288 with 1 Axes>"
      ]
     },
     "metadata": {
      "needs_background": "light"
     },
     "output_type": "display_data"
    }
   ],
   "source": [
    "matplotlib.pyplot.plot(numpy.max(data, axis=0))\n",
    "matplotlib.pyplot.plot(numpy.min(data, axis=0))\n",
    "matplotlib.pyplot.plot(numpy.mean(data, axis=0))"
   ]
  },
  {
   "cell_type": "code",
   "execution_count": 84,
   "id": "ccbc5fa7",
   "metadata": {},
   "outputs": [
    {
     "data": {
      "text/plain": [
       "[<matplotlib.lines.Line2D at 0x1515f865880>]"
      ]
     },
     "execution_count": 84,
     "metadata": {},
     "output_type": "execute_result"
    },
    {
     "data": {
      "image/png": "[encoded data removed]",
      "text/plain": [
       "<Figure size 432x288 with 1 Axes>"
      ]
     },
     "metadata": {
      "needs_background": "light"
     },
     "output_type": "display_data"
    }
   ],
   "source": [
    "matplotlib.pyplot.plot(numpy.max(data, axis=1))\n",
    "matplotlib.pyplot.plot(numpy.min(data, axis=1))\n",
    "matplotlib.pyplot.plot(numpy.mean(data, axis=1))"
   ]
  },
  {
   "cell_type": "code",
   "execution_count": 86,
   "id": "21b710d1",
   "metadata": {},
   "outputs": [],
   "source": [
    "import numpy\n",
    "import matplotlib.pyplot\n",
    "data = numpy.loadtxt(fname='C:\\\\Users\\DELL\\Desktop\\swc-python\\data\\inflammation-01.csv', delimiter= \",\")"
   ]
  },
  {
   "cell_type": "code",
   "execution_count": 102,
   "id": "11fd7e69",
   "metadata": {},
   "outputs": [
    {
     "data": {
      "image/png": "[encoded data removed]",
      "text/plain": [
       "<Figure size 2160x720 with 6 Axes>"
      ]
     },
     "metadata": {
      "needs_background": "light"
     },
     "output_type": "display_data"
    }
   ],
   "source": [
    "fig= matplotlib.pyplot.figure(figsize=(30.0,10.0))\n",
    "axes1= fig.add_subplot(1,6,1)\n",
    "axes2= fig.add_subplot(1,6,2)\n",
    "axes3= fig.add_subplot(1,6,3)\n",
    "axes1.set_ylabel('average')\n",
    "axes1.set_xlabel('data')\n",
    "axes1.plot(numpy.mean(data,axis=0))\n",
    "axes2.set_ylabel('max')\n",
    "axes2.set_xlabel('data')\n",
    "axes2.plot(numpy.max(data,axis=0))\n",
    "axes3.set_ylabel('min')\n",
    "axes3.set_xlabel('data')\n",
    "axes3.plot(numpy.min(data,axis=0))\n",
    "axes4= fig.add_subplot(1,6,4)\n",
    "axes5= fig.add_subplot(1,6,5)\n",
    "axes6= fig.add_subplot(1,6,6)\n",
    "axes4.set_ylabel('average')\n",
    "axes4.set_xlabel('data')\n",
    "axes4.plot(numpy.mean(data,axis=1))\n",
    "axes5.set_ylabel('max')\n",
    "axes5.set_xlabel('data')\n",
    "axes5.plot(numpy.max(data,axis=1))\n",
    "axes6.set_ylabel('min')\n",
    "axes6.set_xlabel('data')\n",
    "axes6.plot(numpy.min(data,axis=1))\n",
    "\n",
    "matplotlib.pyplot.savefig('inflammation.png')"
   ]
  },
  {
   "cell_type": "code",
   "execution_count": 99,
   "id": "ec7bb2e4",
   "metadata": {},
   "outputs": [
    {
     "name": "stdout",
     "output_type": "stream",
     "text": [
      "Help on function figure in module matplotlib.pyplot:\n",
      "\n",
      "figure(num=None, figsize=None, dpi=None, facecolor=None, edgecolor=None, frameon=True, FigureClass=<class 'matplotlib.figure.Figure'>, clear=False, **kwargs)\n",
      "    Create a new figure, or activate an existing figure.\n",
      "    \n",
      "    Parameters\n",
      "    ----------\n",
      "    num : int or str, optional\n",
      "        A unique identifier for the figure.\n",
      "    \n",
      "        If a figure with that identifier already exists, this figure is made\n",
      "        active and returned. An integer refers to the ``Figure.number``\n",
      "        attribute, a string refers to the figure label.\n",
      "    \n",
      "        If there is no figure with the identifier or *num* is not given, a new\n",
      "        figure is created, made active and returned.  If *num* is an int, it\n",
      "        will be used for the ``Figure.number`` attribute, otherwise, an\n",
      "        auto-generated integer value is used (starting at 1 and incremented\n",
      "        for each new figure). If *num* is a string, the figure label and the\n",
      "        window title is set to this value.\n",
      "    \n",
      "    figsize : (float, float), default: :rc:`figure.figsize`\n",
      "        Width, height in inches.\n",
      "    \n",
      "    dpi : float, default: :rc:`figure.dpi`\n",
      "        The resolution of the figure in dots-per-inch.\n",
      "    \n",
      "    facecolor : color, default: :rc:`figure.facecolor`\n",
      "        The background color.\n",
      "    \n",
      "    edgecolor : color, default: :rc:`figure.edgecolor`\n",
      "        The border color.\n",
      "    \n",
      "    frameon : bool, default: True\n",
      "        If False, suppress drawing the figure frame.\n",
      "    \n",
      "    FigureClass : subclass of `~matplotlib.figure.Figure`\n",
      "        Optionally use a custom `.Figure` instance.\n",
      "    \n",
      "    clear : bool, default: False\n",
      "        If True and the figure already exists, then it is cleared.\n",
      "    \n",
      "    tight_layout : bool or dict, default: :rc:`figure.autolayout`\n",
      "        If ``False`` use *subplotpars*. If ``True`` adjust subplot\n",
      "        parameters using `.tight_layout` with default padding.\n",
      "        When providing a dict containing the keys ``pad``, ``w_pad``,\n",
      "        ``h_pad``, and ``rect``, the default `.tight_layout` paddings\n",
      "        will be overridden.\n",
      "    \n",
      "    constrained_layout : bool, default: :rc:`figure.constrained_layout.use`\n",
      "        If ``True`` use constrained layout to adjust positioning of plot\n",
      "        elements.  Like ``tight_layout``, but designed to be more\n",
      "        flexible.  See\n",
      "        :doc:`/tutorials/intermediate/constrainedlayout_guide`\n",
      "        for examples.  (Note: does not work with `add_subplot` or\n",
      "        `~.pyplot.subplot2grid`.)\n",
      "    \n",
      "    \n",
      "    **kwargs : optional\n",
      "        See `~.matplotlib.figure.Figure` for other possible arguments.\n",
      "    \n",
      "    Returns\n",
      "    -------\n",
      "    `~matplotlib.figure.Figure`\n",
      "        The `.Figure` instance returned will also be passed to\n",
      "        new_figure_manager in the backends, which allows to hook custom\n",
      "        `.Figure` classes into the pyplot interface. Additional kwargs will be\n",
      "        passed to the `.Figure` init function.\n",
      "    \n",
      "    Notes\n",
      "    -----\n",
      "    If you are creating many figures, make sure you explicitly call\n",
      "    `.pyplot.close` on the figures you are not using, because this will\n",
      "    enable pyplot to properly clean up the memory.\n",
      "    \n",
      "    `~matplotlib.rcParams` defines the default values, which can be modified\n",
      "    in the matplotlibrc file.\n",
      "\n"
     ]
    }
   ],
   "source": [
    "help(matplotlib.pyplot.figure)"
   ]
  },
  {
   "cell_type": "markdown",
   "id": "a71c4bd4",
   "metadata": {},
   "source": [
    "# Lists"
   ]
  },
  {
   "cell_type": "code",
   "execution_count": 103,
   "id": "3be17bfc",
   "metadata": {},
   "outputs": [
    {
     "name": "stdout",
     "output_type": "stream",
     "text": [
      "1\n",
      "3\n",
      "4\n",
      "7\n"
     ]
    }
   ],
   "source": [
    "odds = [1,3,4,7]\n",
    "print(odds[0])\n",
    "print(odds[1])\n",
    "print(odds[2])\n",
    "print(odds[3])"
   ]
  },
  {
   "cell_type": "code",
   "execution_count": 104,
   "id": "7afb31ff",
   "metadata": {},
   "outputs": [
    {
     "name": "stdout",
     "output_type": "stream",
     "text": [
      "1\n",
      "3\n",
      "4\n",
      "7\n"
     ]
    }
   ],
   "source": [
    "odds = [1,3,4,7]\n",
    "print(odds[-4])\n",
    "print(odds[-3])\n",
    "print(odds[-2])\n",
    "print(odds[-1])"
   ]
  },
  {
   "cell_type": "code",
   "execution_count": 108,
   "id": "3f302bda",
   "metadata": {},
   "outputs": [
    {
     "name": "stdout",
     "output_type": "stream",
     "text": [
      "1\n",
      "3\n",
      "4\n",
      "7\n"
     ]
    }
   ],
   "source": [
    "for number in odds:\n",
    "    print(number)"
   ]
  },
  {
   "cell_type": "code",
   "execution_count": 111,
   "id": "945b36f3",
   "metadata": {},
   "outputs": [
    {
     "name": "stdout",
     "output_type": "stream",
     "text": [
      "Fruits are originally: ['apples', 'oranges', 'bananas', 'mangoes']\n",
      "Updated fruits are: ['apples', 'avacado', 'bananas', 'mangoes']\n"
     ]
    }
   ],
   "source": [
    "Fruits = ['apples', 'oranges', 'bananas', 'mangoes']\n",
    "print(\"Fruits are originally:\", Fruits)\n",
    "Fruits[1]= 'avacado'\n",
    "print(\"Updated fruits are:\", Fruits)\n"
   ]
  },
  {
   "cell_type": "code",
   "execution_count": 114,
   "id": "e0cd474b",
   "metadata": {},
   "outputs": [
    {
     "name": "stdout",
     "output_type": "stream",
     "text": [
      "Sandwitch consists of : ['Bread', 'Jelly', 'Peanut butter', 'Bread2'] my sandwitch consists of : ['Bread', 'Jelly', 'Peanut butter', 'Bread2']\n",
      "Sandwitch consists of : ['Bread', 'Jelly', 'Chocolate', 'Bread2'] my sandwitch consists of : ['Bread', 'Jelly', 'Chocolate', 'Bread2']\n"
     ]
    }
   ],
   "source": [
    "Sandwitch= ['Bread','Jelly','Peanut butter', 'Bread2']\n",
    "mysandwitch=Sandwitch\n",
    "print(\"Sandwitch consists of :\", Sandwitch, \"my sandwitch consists of :\", mysandwitch )\n",
    "Sandwitch[2]= 'Chocolate'\n",
    "print(\"Sandwitch consists of :\", Sandwitch, \"my sandwitch consists of :\", mysandwitch )"
   ]
  },
  {
   "cell_type": "code",
   "execution_count": 115,
   "id": "5614dc46",
   "metadata": {},
   "outputs": [
    {
     "name": "stdout",
     "output_type": "stream",
     "text": [
      "Sandwitch consists of : ['Bread', 'Jelly', 'Peanut butter', 'Bread2'] my sandwitch consists of : ['Bread', 'Jelly', 'Peanut butter', 'Bread2']\n",
      "Sandwitch consists of : ['Bread', 'Jelly', 'Chocolate', 'Bread2'] my sandwitch consists of : ['Bread', 'Jelly', 'Peanut butter', 'Bread2']\n"
     ]
    }
   ],
   "source": [
    "Sandwitch= ['Bread','Jelly','Peanut butter', 'Bread2']\n",
    "mysandwitch=list(Sandwitch)\n",
    "print(\"Sandwitch consists of :\", Sandwitch, \"my sandwitch consists of :\", mysandwitch )\n",
    "Sandwitch[2]= 'Chocolate'\n",
    "print(\"Sandwitch consists of :\", Sandwitch, \"my sandwitch consists of :\", mysandwitch )"
   ]
  },
  {
   "cell_type": "code",
   "execution_count": 116,
   "id": "dca40d94",
   "metadata": {},
   "outputs": [
    {
     "name": "stdout",
     "output_type": "stream",
     "text": [
      "['pepper', 'zucchini', 'onion']\n"
     ]
    }
   ],
   "source": [
    "x = [['pepper', 'zucchini', 'onion'],\n",
    "         ['cabbage', 'lettuce', 'garlic'],\n",
    "         ['apple', 'pear', 'banana']]\n",
    "print(x[0])"
   ]
  },
  {
   "cell_type": "code",
   "execution_count": 117,
   "id": "ef90aa0a",
   "metadata": {},
   "outputs": [
    {
     "name": "stdout",
     "output_type": "stream",
     "text": [
      "onion\n"
     ]
    }
   ],
   "source": [
    "print(x[0][2])"
   ]
  },
  {
   "cell_type": "code",
   "execution_count": 118,
   "id": "f8f7c068",
   "metadata": {},
   "outputs": [],
   "source": [
    "hetro= [2,5,'Unknown']"
   ]
  },
  {
   "cell_type": "code",
   "execution_count": 122,
   "id": "6371e949",
   "metadata": {},
   "outputs": [
    {
     "name": "stdout",
     "output_type": "stream",
     "text": [
      "[1, 3, 5, 7]\n",
      "[1, 3, 5, 7, 11]\n",
      "[3, 5, 7, 11]\n"
     ]
    }
   ],
   "source": [
    "odds= [1,3,5,7]\n",
    "print(odds)\n",
    "odds.append(11)\n",
    "print(odds)\n",
    "odds.pop(0)\n",
    "print(odds)"
   ]
  },
  {
   "cell_type": "code",
   "execution_count": 125,
   "id": "d7dfd619",
   "metadata": {},
   "outputs": [
    {
     "name": "stdout",
     "output_type": "stream",
     "text": [
      "[11, 7, 5, 3]\n"
     ]
    }
   ],
   "source": [
    "odds.reverse()\n",
    "print(odds)"
   ]
  },
  {
   "cell_type": "code",
   "execution_count": 127,
   "id": "e49bfe25",
   "metadata": {},
   "outputs": [
    {
     "name": "stdout",
     "output_type": "stream",
     "text": [
      "Unite\n"
     ]
    }
   ],
   "source": [
    "Country_name= \"United states of america\"\n",
    "print(Country_name[0:5])"
   ]
  },
  {
   "cell_type": "code",
   "execution_count": 129,
   "id": "876c9e15",
   "metadata": {},
   "outputs": [
    {
     "name": "stdout",
     "output_type": "stream",
     "text": [
      "December\n",
      "15\n",
      "2021\n"
     ]
    }
   ],
   "source": [
    "date = 'December 15 2021'\n",
    "month = date[:8]\n",
    "day= date[9:11]\n",
    "year = date[12:16]\n",
    "print(month)\n",
    "print(day)\n",
    "print(year)"
   ]
  },
  {
   "cell_type": "code",
   "execution_count": 137,
   "id": "a612d5be",
   "metadata": {},
   "outputs": [
    {
     "name": "stdout",
     "output_type": "stream",
     "text": [
      "['jan', 'feb', 'mar', 'apr', 'may', 'jun']\n",
      "['jul', 'aug', 'sep', 'oct', 'nov', 'dec']\n",
      "['jan', 'feb', 'mar', 'apr', 'may', 'jun']\n",
      "['jul', 'aug', 'sep', 'oct', 'nov', 'dec']\n",
      "12\n"
     ]
    }
   ],
   "source": [
    "Year = ['jan', 'feb', 'mar', 'apr', 'may', 'jun', 'jul', 'aug', 'sep', 'oct', 'nov', 'dec']\n",
    "First_half= Year[:6]\n",
    "Second_half= Year[6:]\n",
    "print(First_half)\n",
    "print(Second_half)\n",
    "First_half= Year[:6]\n",
    "Second_half= Year[6:len(Year)]\n",
    "print(First_half)\n",
    "print(Second_half)\n",
    "print(len(Year))"
   ]
  },
  {
   "cell_type": "markdown",
   "id": "48cf52b9",
   "metadata": {},
   "source": [
    "# For loops"
   ]
  },
  {
   "cell_type": "code",
   "execution_count": 139,
   "id": "5d049c04",
   "metadata": {},
   "outputs": [
    {
     "name": "stdout",
     "output_type": "stream",
     "text": [
      "P\n",
      "a\n",
      "k\n",
      "i\n",
      "s\n",
      "t\n",
      "a\n",
      "n\n"
     ]
    }
   ],
   "source": [
    "word = \"Pakistan\"\n",
    "for i in word:\n",
    "    print(i)"
   ]
  },
  {
   "cell_type": "code",
   "execution_count": 143,
   "id": "881201a2",
   "metadata": {},
   "outputs": [
    {
     "name": "stdout",
     "output_type": "stream",
     "text": [
      "jan\n",
      "feb\n",
      "mar\n",
      "apr\n",
      "may\n",
      "jun\n",
      "jul\n",
      "aug\n",
      "sep\n",
      "oct\n",
      "nov\n",
      "dec\n"
     ]
    }
   ],
   "source": [
    "Year = ['jan', 'feb', 'mar', 'apr', 'may', 'jun', 'jul', 'aug', 'sep', 'oct', 'nov', 'dec']\n",
    "for months in Year:\n",
    "    print(months)"
   ]
  },
  {
   "cell_type": "code",
   "execution_count": 148,
   "id": "41e1abe1",
   "metadata": {},
   "outputs": [
    {
     "name": "stdout",
     "output_type": "stream",
     "text": [
      "jan\n",
      "feb\n",
      "mar\n",
      "apr\n",
      "may\n",
      "jun\n",
      "jul\n",
      "aug\n",
      "sep\n",
      "oct\n",
      "nov\n",
      "dec\n"
     ]
    }
   ],
   "source": [
    "Years = ['jan', 'feb', 'mar', 'apr', 'may', 'jun', 'jul', 'aug', 'sep', 'oct', 'nov', 'dec']\n",
    "for i in Years:\n",
    "    print(i)"
   ]
  },
  {
   "cell_type": "code",
   "execution_count": 161,
   "id": "cd027ec3",
   "metadata": {},
   "outputs": [
    {
     "name": "stdout",
     "output_type": "stream",
     "text": [
      "Monday\n",
      "Tuesday\n",
      "Wednesday\n",
      "Thursday\n",
      "Friday\n",
      "Saturday\n",
      "Sunday\n"
     ]
    }
   ],
   "source": [
    "length = 0\n",
    "days_of_week = ['Monday', 'Tuesday', 'Wednesday', 'Thursday', 'Friday', 'Saturday', 'Sunday']\n",
    "\n",
    "for i in days_of_week:\n",
    "    length = length + 1\n",
    "    print(i)"
   ]
  },
  {
   "cell_type": "code",
   "execution_count": 164,
   "id": "b1df2ded",
   "metadata": {},
   "outputs": [
    {
     "name": "stdout",
     "output_type": "stream",
     "text": [
      "There are 9 in Newzeland \n",
      "9\n"
     ]
    }
   ],
   "source": [
    "\n",
    "length = 0\n",
    "for alphabets in 'Newzeland':\n",
    "    length = length + 1\n",
    "print('There are', length, 'in Newzeland ')\n",
    "print(len('Newzeland'))\n"
   ]
  },
  {
   "cell_type": "code",
   "execution_count": 165,
   "id": "c54fbd22",
   "metadata": {},
   "outputs": [
    {
     "name": "stdout",
     "output_type": "stream",
     "text": [
      "a\n",
      "b\n",
      "c\n",
      "d\n",
      "e\n",
      "f\n",
      "g\n",
      "after the loop, letter is h\n"
     ]
    }
   ],
   "source": [
    "alphabet = 'h'\n",
    "for letter in 'abcdefg':\n",
    "    print(letter)\n",
    "print('after the loop, letter is', alphabet)\n"
   ]
  },
  {
   "cell_type": "code",
   "execution_count": 166,
   "id": "b5f6f0b4",
   "metadata": {},
   "outputs": [
    {
     "name": "stdout",
     "output_type": "stream",
     "text": [
      "a\n",
      "b\n",
      "c\n",
      "d\n",
      "e\n",
      "f\n",
      "g\n",
      "after the loop, letter is g\n"
     ]
    }
   ],
   "source": [
    "alphabet = 'h'\n",
    "for alphabet in 'abcdefg':\n",
    "    print(alphabet)\n",
    "print('after the loop, letter is', alphabet)"
   ]
  }
 ],
 "metadata": {
  "kernelspec": {
   "display_name": "Python 3",
   "language": "python",
   "name": "python3"
  },
  "language_info": {
   "codemirror_mode": {
    "name": "ipython",
    "version": 3
   },
   "file_extension": ".py",
   "mimetype": "text/x-python",
   "name": "python",
   "nbconvert_exporter": "python",
   "pygments_lexer": "ipython3",
   "version": "3.8.8"
  }
 },
 "nbformat": 4,
 "nbformat_minor": 5
}
